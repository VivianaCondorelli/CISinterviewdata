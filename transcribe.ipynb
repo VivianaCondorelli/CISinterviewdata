{
 "cells": [
  {
   "cell_type": "code",
   "execution_count": null,
   "id": "5b19752c",
   "metadata": {
    "vscode": {
     "languageId": "plaintext"
    }
   },
   "outputs": [],
   "source": [
    "! pip install git+https://github.com/openai/whisper.git\n",
    "! pip install jiwer"
   ]
  }
 ],
 "metadata": {
  "language_info": {
   "name": "python"
  }
 },
 "nbformat": 4,
 "nbformat_minor": 5
}
